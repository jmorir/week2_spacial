{
  "cells": [
    {
      "cell_type": "markdown",
      "metadata": {
        "id": "Rq_-jS9HtUU-"
      },
      "source": [
        "<img src=\"https://i.imgur.com/6U6q5jQ.png\"/>"
      ]
    },
    {
      "cell_type": "markdown",
      "metadata": {
        "id": "-cCaZ1r2tUVA"
      },
      "source": [
        "<a target=\"_blank\" href=\"https://colab.research.google.com/github/SocialAnalytics-StrategicIntelligence/GeoDFBasics_py/blob/main/index.ipynb\">\n",
        "  <img src=\"https://colab.research.google.com/assets/colab-badge.svg\" alt=\"Open In Colab\"/>\n",
        "</a>\n",
        "\n",
        "# The Geo Dataframe\n",
        "\n",
        "The geodataframe (GDF) is a dataframe (DF) where every row represents an spatial element (point, line, polygon).\n",
        "\n",
        "Historically, the most common file type that stores spatial elements is the shapefile. Let's take a look at some of them:\n",
        "\n",
        "1. In GitHub (cloud), create a repository named: introgeodf.\n",
        "2. Clone that repo to a local folder in your computer.\n",
        "3. In that local folder in your computer, create a folder named **maps**.\n",
        "4. Go to paidea and download three compressed files.\n",
        "5. Download those files into the folder **maps** in your computer: *countries*, *cities*, and *rivers*."
      ]
    },
    {
      "cell_type": "markdown",
      "metadata": {
        "id": "PhGJmen1tUVB"
      },
      "source": [
        "You may see something like this:\n",
        "\n",
        "<img src=\"https://github.com/CienciaDeDatosEspacial/code_and_data/blob/main/mapsFolderImage.png?raw=true\">"
      ]
    },
    {
      "cell_type": "markdown",
      "metadata": {
        "id": "HBs3ovRstUVB"
      },
      "source": [
        "You can decompress those files:\n",
        "\n",
        "<img title=\"a title\" alt=\"Alt text\" src=\"https://github.com/CienciaDeDatosEspacial/code_and_data/blob/main/folderRar_1.png?raw=true\">"
      ]
    },
    {
      "cell_type": "markdown",
      "metadata": {
        "id": "OzvFDa2JtUVB"
      },
      "source": [
        "Now, take a look a **World_Countries**:\n",
        "\n",
        "<img src=\"https://github.com/CienciaDeDatosEspacial/code_and_data/blob/main/imageCountries_shp.png?raw=true\">"
      ]
    },
    {
      "cell_type": "markdown",
      "metadata": {
        "id": "BUOIWMOTtUVB"
      },
      "source": [
        "There, you see that this **one map** requires **several files**. That is the nature of the shapefile.\n",
        "\n",
        "Let's read the file with the help of **geopandas**:"
      ]
    },
    {
      "cell_type": "code",
      "execution_count": null,
      "metadata": {
        "id": "KJV5G0POtUVB"
      },
      "outputs": [],
      "source": [
        "import os, geopandas as gpd\n",
        "\n",
        "countries=gpd.read_file(os.path.join(\"maps\",\"World_Countries\",\"World_Countries.shp\"))"
      ]
    },
    {
      "cell_type": "markdown",
      "metadata": {
        "id": "a5AOj3mktUVC"
      },
      "source": [
        "Let's use some familiar DF functions:"
      ]
    },
    {
      "cell_type": "code",
      "execution_count": null,
      "metadata": {
        "id": "BTVBGfNatUVC"
      },
      "outputs": [],
      "source": [
        "# what is it?\n",
        "type(countries)"
      ]
    },
    {
      "cell_type": "code",
      "execution_count": null,
      "metadata": {
        "id": "AkvWskZytUVC"
      },
      "outputs": [],
      "source": [
        "# dimensions\n",
        "countries.shape"
      ]
    },
    {
      "cell_type": "code",
      "execution_count": null,
      "metadata": {
        "id": "ETJdBBR1tUVD"
      },
      "outputs": [],
      "source": [
        "# names\n",
        "countries.columns"
      ]
    },
    {
      "cell_type": "code",
      "execution_count": null,
      "metadata": {
        "id": "QrbZt4g5tUVD"
      },
      "outputs": [],
      "source": [
        "# some content\n",
        "countries.head()"
      ]
    },
    {
      "cell_type": "code",
      "execution_count": null,
      "metadata": {
        "id": "vPHdGEtatUVD"
      },
      "outputs": [],
      "source": [
        "# any missing values?\n",
        "countries[countries.isna().any(axis=1)]"
      ]
    },
    {
      "cell_type": "code",
      "execution_count": null,
      "metadata": {
        "id": "TWXmBv-vtUVD",
        "scrolled": true
      },
      "outputs": [],
      "source": [
        "# types\n",
        "countries.info()"
      ]
    },
    {
      "cell_type": "markdown",
      "metadata": {
        "id": "QzT4ctrjtUVD"
      },
      "source": [
        "As you see, every pandas command is working, but now we have a new column type: **geometry**. Let's see this map of countries:"
      ]
    },
    {
      "cell_type": "code",
      "execution_count": null,
      "metadata": {
        "id": "DjMj9myHtUVD"
      },
      "outputs": [],
      "source": [
        "countries.plot(facecolor=\"azure\",#color of polygon fill\n",
        "               edgecolor='black', #color of lines\n",
        "               linewidth=0.1) #thickness of lines"
      ]
    },
    {
      "cell_type": "markdown",
      "metadata": {
        "id": "iCtifGnqtUVD"
      },
      "source": [
        "Let's open the other maps:"
      ]
    },
    {
      "cell_type": "code",
      "execution_count": null,
      "metadata": {
        "id": "lPbJ4wFHtUVD"
      },
      "outputs": [],
      "source": [
        "rivers=gpd.read_file(os.path.join(\"maps\",\"World_Hydrography\",\"World_Hydrography.shp\"))\n",
        "cities=gpd.read_file(os.path.join(\"maps\",\"World_Cities\",\"World_Cities.shp\"))"
      ]
    },
    {
      "cell_type": "markdown",
      "metadata": {
        "id": "YST-6ylTlL1e"
      },
      "source": [
        "This is the rivers map:"
      ]
    },
    {
      "cell_type": "code",
      "execution_count": null,
      "metadata": {
        "id": "8Gap_au4tUVD"
      },
      "outputs": [],
      "source": [
        "rivers.plot(edgecolor='blue',\n",
        "            linewidth=1,\n",
        "            linestyle='dotted')"
      ]
    },
    {
      "cell_type": "markdown",
      "metadata": {
        "id": "4_rGw-w3lL1e"
      },
      "source": [
        "This is the cities map:"
      ]
    },
    {
      "cell_type": "code",
      "execution_count": null,
      "metadata": {
        "id": "8nAC2GkptUVD"
      },
      "outputs": [],
      "source": [
        "cities.plot(marker='.', # marker type\n",
        "            color='red',\n",
        "            markersize=1,\n",
        "            alpha=0.3) # transparency"
      ]
    },
    {
      "cell_type": "markdown",
      "metadata": {
        "id": "prkK6IA8tUVE"
      },
      "source": [
        "You can plot all the layers, as long as they share the same projection.\n",
        "Let's verify that all have the same projection (**CRS**):"
      ]
    },
    {
      "cell_type": "code",
      "execution_count": null,
      "metadata": {
        "id": "8G0MkpZ1tUVE"
      },
      "outputs": [],
      "source": [
        "countries.crs==cities.crs==cities.crs"
      ]
    },
    {
      "cell_type": "markdown",
      "metadata": {
        "id": "ZOiFM3uYtUVE"
      },
      "source": [
        "You can start by creating the layer on the back (the base), and add layers on top:"
      ]
    },
    {
      "cell_type": "code",
      "execution_count": null,
      "metadata": {
        "id": "rqkVAvHstUVE"
      },
      "outputs": [],
      "source": [
        "base = countries.plot(facecolor=\"white\",\n",
        "                      edgecolor='black',\n",
        "                      linewidth=0.1,\n",
        "                      figsize=(12,12))\n",
        "\n",
        "rivers.plot(edgecolor='blue', linewidth=0.4,\n",
        "            ax=base)# on top of...\n",
        "cities.plot(marker='.', color='red', markersize=1,alpha=0.7,\n",
        "            ax=base) # on top of...\n"
      ]
    },
    {
      "cell_type": "code",
      "execution_count": null,
      "metadata": {
        "id": "TzLPoSW3lL1f"
      },
      "outputs": [],
      "source": [
        "countries.to_file(os.path.join(\"maps\",\"worldMap.gpkg\"),layer='countryBorders', driver=\"GPKG\")\n",
        "rivers.to_file(os.path.join(\"maps\",\"worldMap.gpkg\"),layer='riverLines', driver=\"GPKG\")\n",
        "cities.to_file(os.path.join(\"maps\",\"worldMap.gpkg\"),layer='cityPoints', driver=\"GPKG\")"
      ]
    },
    {
      "cell_type": "markdown",
      "metadata": {
        "id": "4WVBq3bUtUVE"
      },
      "source": [
        "## Subsetting\n",
        "\n",
        "You can subset your map by *filtering*:"
      ]
    },
    {
      "cell_type": "code",
      "execution_count": null,
      "metadata": {
        "id": "NsiI-8ZYtUVE"
      },
      "outputs": [],
      "source": [
        "brazil=countries[countries.COUNTRY=='Brazil']"
      ]
    },
    {
      "cell_type": "markdown",
      "metadata": {
        "id": "biux_VKutUVF"
      },
      "source": [
        "But you can also subset by *clipping*, as sometimes other data frames may not have the same fields for filtering:"
      ]
    },
    {
      "cell_type": "code",
      "execution_count": null,
      "metadata": {
        "id": "ltxxI2OotUVF"
      },
      "outputs": [],
      "source": [
        "citiesBrazil_clipped = gpd.clip(gdf=cities,\n",
        "                          mask=brazil)\n",
        "riversBrazil_clipped = gpd.clip(gdf=rivers,\n",
        "                               mask=brazil)"
      ]
    },
    {
      "cell_type": "markdown",
      "metadata": {
        "id": "2nXd5aiRtUVF"
      },
      "source": [
        "Then, you can plot the clipped version:"
      ]
    },
    {
      "cell_type": "code",
      "execution_count": null,
      "metadata": {
        "id": "dEfKc5nQtUVF"
      },
      "outputs": [],
      "source": [
        "base = brazil.plot(facecolor=\"greenyellow\", edgecolor='black', linewidth=0.4,figsize=(5,5))\n",
        "citiesBrazil_clipped.plot(marker='+', color='red', markersize=15,\n",
        "                    ax=base)\n",
        "riversBrazil_clipped.plot(edgecolor='blue', linewidth=0.5,\n",
        "                    ax=base)"
      ]
    },
    {
      "cell_type": "markdown",
      "metadata": {
        "id": "cdOcNlXblL1f"
      },
      "source": [
        "You can also check what geometries you have in your GDF:"
      ]
    },
    {
      "cell_type": "code",
      "execution_count": null,
      "metadata": {
        "id": "oVXb9bJYlL1g"
      },
      "outputs": [],
      "source": [
        "brazil.geom_type"
      ]
    },
    {
      "cell_type": "code",
      "execution_count": null,
      "metadata": {
        "id": "1J2tgEo9lL1g"
      },
      "outputs": [],
      "source": [
        "citiesBrazil_clipped.geom_type"
      ]
    },
    {
      "cell_type": "code",
      "execution_count": null,
      "metadata": {
        "scrolled": true,
        "id": "kdrcO8YBlL1g"
      },
      "outputs": [],
      "source": [
        "riversBrazil_clipped.geom_type"
      ]
    },
    {
      "cell_type": "markdown",
      "metadata": {
        "id": "jKF2trfZlL1g"
      },
      "source": [
        "Notice that the amount of elements (rows) is different, and that all those elements do not belong to the exact geometry type."
      ]
    },
    {
      "cell_type": "markdown",
      "metadata": {
        "id": "zdLyRZtIlL1g"
      },
      "source": [
        "<a class=\"anchor\" id=\"1\"></a>\n",
        "\n",
        "## Map Projection\n",
        "\n",
        "The CRS is a very important property of the maps. They affect three aspects:\n",
        "\n",
        "* shape\n",
        "* area\n",
        "* scale\n",
        "* direction\n",
        "\n",
        "Most maps come with a default CRS: 4326. Pay attention:"
      ]
    },
    {
      "cell_type": "code",
      "execution_count": null,
      "metadata": {
        "id": "q5htrm2NlL1l"
      },
      "outputs": [],
      "source": [
        "# check units\n",
        "brazil.crs.axis_info"
      ]
    },
    {
      "cell_type": "markdown",
      "metadata": {
        "id": "Kn6BUBiIlL1l"
      },
      "source": [
        "Polygons have a centroid. When we try getting a centroid from an **unprojected** polygon, you get:"
      ]
    },
    {
      "cell_type": "code",
      "execution_count": null,
      "metadata": {
        "id": "UgU6-HiBlL1l"
      },
      "outputs": [],
      "source": [
        "# centroid\n",
        "brazil.centroid"
      ]
    },
    {
      "cell_type": "markdown",
      "metadata": {
        "id": "usmbUv88lL1l"
      },
      "source": [
        "### Reprojecting"
      ]
    },
    {
      "cell_type": "markdown",
      "metadata": {
        "id": "E-4wE7KllL1l"
      },
      "source": [
        "A projected CRS will have units in meters or feet (or similar). You can request a crs per country [here](https://epsg.io/?q=brazil+kind%3APROJCRS):"
      ]
    },
    {
      "cell_type": "code",
      "execution_count": null,
      "metadata": {
        "id": "wgja9_aQlL1l"
      },
      "outputs": [],
      "source": [
        "# recommended for Brazil (meters)\n",
        "brazil.to_crs(5641).crs.axis_info"
      ]
    },
    {
      "cell_type": "code",
      "execution_count": null,
      "metadata": {
        "id": "5NMkAhb2lL1m"
      },
      "outputs": [],
      "source": [
        "# now this works\n",
        "brazil.to_crs(5641).centroid"
      ]
    },
    {
      "cell_type": "code",
      "execution_count": null,
      "metadata": {
        "id": "-phPO86nlL1m"
      },
      "outputs": [],
      "source": [
        "# replotting:\n",
        "\n",
        "base5641=brazil.to_crs(5641).plot()\n",
        "brazil.to_crs(5641).centroid.plot(color='red',ax=base5641)"
      ]
    },
    {
      "cell_type": "markdown",
      "metadata": {
        "id": "nXFIgc27lL1m"
      },
      "source": [
        "Let's keep the projected version for all our maps:"
      ]
    },
    {
      "cell_type": "code",
      "execution_count": null,
      "metadata": {
        "id": "ZuJlq1sflL1m"
      },
      "outputs": [],
      "source": [
        "brazil_5641=brazil.to_crs(5641)\n",
        "\n",
        "cities_brazil_5641=citiesBrazil_clipped.to_crs(brazil_5641.crs)\n",
        "\n",
        "rivers_brazil_5641=riversBrazil_clipped.to_crs(brazil_5641.crs)\n",
        "\n"
      ]
    },
    {
      "cell_type": "code",
      "execution_count": null,
      "metadata": {
        "id": "AyvLKHgzlL1m"
      },
      "outputs": [],
      "source": [
        "# saving\n",
        "import os\n",
        "\n",
        "brazil_5641.to_file(os.path.join(\"maps\",\"brazilMaps_5641.gpkg\"), layer='country', driver=\"GPKG\")\n",
        "cities_brazil_5641.to_file(os.path.join(\"maps\",\"brazilMaps_5641.gpkg\"), layer='cities', driver=\"GPKG\")\n",
        "rivers_brazil_5641.to_file(os.path.join(\"maps\",\"brazilMaps_5641.gpkg\"), layer='rivers', driver=\"GPKG\")"
      ]
    },
    {
      "cell_type": "code",
      "execution_count": null,
      "metadata": {
        "id": "sO53Q37elL1m"
      },
      "outputs": [],
      "source": [
        "brazil_5641.centroid"
      ]
    },
    {
      "cell_type": "code",
      "execution_count": null,
      "metadata": {
        "id": "swBOTUIVlL1m"
      },
      "outputs": [],
      "source": [
        "brazil_5641.centroid.to_file(os.path.join(\"maps\",\"brazilMaps_5641.gpkg\"), layer='centroid', driver=\"GPKG\")"
      ]
    },
    {
      "cell_type": "markdown",
      "metadata": {
        "id": "w2vJvihulL1m"
      },
      "source": [
        "<a class=\"anchor\" id=\"3\"></a>\n",
        "\n",
        "## Creating Spatial data\n",
        "\n",
        "You will get Lines and Polygons as maps for sure, but that may not be the case with points. Let me download a **CSV** file with information on the airports in Brazil from this [website](https://data.humdata.org/dataset/ourairports-bra), I will save it in my **data** folder:"
      ]
    },
    {
      "cell_type": "code",
      "execution_count": null,
      "metadata": {
        "id": "jUMB3suDlL1n"
      },
      "outputs": [],
      "source": [
        "import pandas as pd\n",
        "infoairports=pd.read_csv(os.path.join(\"data\",\"br-airports.csv\"))\n",
        "\n",
        "# some rows\n",
        "\n",
        "infoairports.iloc[[0,1,2,3,-4,-3,-2,-1],:] #head and tail"
      ]
    },
    {
      "cell_type": "markdown",
      "metadata": {
        "id": "R9DRiIYClL1n"
      },
      "source": [
        "This needs some cleaning:"
      ]
    },
    {
      "cell_type": "code",
      "execution_count": null,
      "metadata": {
        "id": "CZJN1ph1lL1n"
      },
      "outputs": [],
      "source": [
        "# bye first row\n",
        "infoairports.drop(index=0,inplace=True)\n",
        "infoairports.reset_index(drop=True, inplace=True)\n",
        "infoairports.head()"
      ]
    },
    {
      "cell_type": "code",
      "execution_count": null,
      "metadata": {
        "id": "xHW__9eClL1n"
      },
      "outputs": [],
      "source": [
        "# keep the  columns needed\n",
        "\n",
        "infoairports.columns"
      ]
    },
    {
      "cell_type": "code",
      "execution_count": null,
      "metadata": {
        "id": "iU83JegYlL1n"
      },
      "outputs": [],
      "source": [
        "keep=['name','type','latitude_deg', 'longitude_deg','elevation_ft','region_name','municipality']\n",
        "infoairports=infoairports.loc[:,keep]"
      ]
    },
    {
      "cell_type": "code",
      "execution_count": null,
      "metadata": {
        "id": "QMCOMt12lL1n"
      },
      "outputs": [],
      "source": [
        "infoairports.info()"
      ]
    },
    {
      "cell_type": "markdown",
      "metadata": {
        "id": "JSviDV-alL1n"
      },
      "source": [
        "Some formatting:"
      ]
    },
    {
      "cell_type": "code",
      "execution_count": null,
      "metadata": {
        "id": "knPJrm4nlL1o"
      },
      "outputs": [],
      "source": [
        "numericCols=['latitude_deg', 'longitude_deg','elevation_ft']\n",
        "infoairports[numericCols]=infoairports.loc[:,numericCols].apply(lambda x:pd.to_numeric(x))\n",
        "\n",
        "# now\n",
        "infoairports.info()"
      ]
    },
    {
      "cell_type": "code",
      "execution_count": null,
      "metadata": {
        "id": "rhSOF-8WlL1o"
      },
      "outputs": [],
      "source": [
        "# let's plot\n",
        "\n",
        "base = brazil_5641.plot(color='white', edgecolor='black') #unprojected\n",
        "\n",
        "infoairports.plot.scatter(x = 'longitude_deg', y = 'latitude_deg',ax=base)"
      ]
    },
    {
      "cell_type": "markdown",
      "metadata": {
        "id": "H7MPrH6elL1o"
      },
      "source": [
        "Why is it wrong?"
      ]
    },
    {
      "cell_type": "code",
      "execution_count": null,
      "metadata": {
        "id": "RU3gqoJClL1o"
      },
      "outputs": [],
      "source": [
        "airports=gpd.GeoDataFrame(data=infoairports.copy(),\n",
        "                 geometry=gpd.points_from_xy(infoairports.longitude_deg,\n",
        "                                             infoairports.latitude_deg),\n",
        "                 crs=brazil.crs.to_epsg())# the coordinates were in degrees - unprojected"
      ]
    },
    {
      "cell_type": "code",
      "execution_count": null,
      "metadata": {
        "id": "kkCH3jTolL1o"
      },
      "outputs": [],
      "source": [
        "# does it look better?\n",
        "\n",
        "# let's plot\n",
        "\n",
        "base = brazil_5641.plot(color='white', edgecolor='black')\n",
        "airports.plot(ax=base)"
      ]
    },
    {
      "cell_type": "code",
      "execution_count": null,
      "metadata": {
        "id": "B4NPJMU_lL1p"
      },
      "outputs": [],
      "source": [
        "#remember:\n",
        "type(airports), type(infoairports)"
      ]
    },
    {
      "cell_type": "markdown",
      "metadata": {
        "id": "AEd3hTJ1lL1p"
      },
      "source": [
        "Let's keep the projected version:"
      ]
    },
    {
      "cell_type": "code",
      "execution_count": null,
      "metadata": {
        "id": "fEO-lvadlL1p"
      },
      "outputs": [],
      "source": [
        "airports_5641=airports.to_crs(5641)\n",
        "\n",
        "## then\n",
        "\n",
        "base = brazil_5641.plot(color='white', edgecolor='black')\n",
        "airports_5641.plot(ax=base)"
      ]
    },
    {
      "cell_type": "markdown",
      "metadata": {
        "id": "ZsKEXkR3lL1p"
      },
      "source": [
        "Remember you have type of airports:"
      ]
    },
    {
      "cell_type": "code",
      "execution_count": null,
      "metadata": {
        "id": "k6TF-itulL1p"
      },
      "outputs": [],
      "source": [
        "airports_5641['type'].value_counts() # this will not work: airports.type.value_counts()"
      ]
    },
    {
      "cell_type": "markdown",
      "metadata": {
        "id": "_ZXMQlmplL1p"
      },
      "source": [
        "We may use that in the future. For now, just rename the **type** column to a different one."
      ]
    },
    {
      "cell_type": "code",
      "execution_count": null,
      "metadata": {
        "id": "Syz8QFU8lL1p"
      },
      "outputs": [],
      "source": [
        "airports_5641.rename(columns={'type':'kind'},inplace=True)"
      ]
    },
    {
      "cell_type": "code",
      "execution_count": null,
      "metadata": {
        "id": "b-i2BV3_lL1p"
      },
      "outputs": [],
      "source": [
        "# adding the airports\n",
        "airports_5641.to_file(os.path.join(\"maps\",\"brazilMaps_5641.gpkg\"), layer='airports', driver=\"GPKG\")"
      ]
    },
    {
      "cell_type": "markdown",
      "metadata": {
        "id": "H7bnxqxIlL1q"
      },
      "source": [
        "## Geo Merging\n",
        "\n",
        "Remember we have these data:"
      ]
    },
    {
      "cell_type": "code",
      "execution_count": null,
      "metadata": {
        "id": "126nRgFIlL1q"
      },
      "outputs": [],
      "source": [
        "countries"
      ]
    },
    {
      "cell_type": "markdown",
      "metadata": {
        "id": "qgwmzE5slL1q"
      },
      "source": [
        "This map has no interesting information beyond the geometry. Let me bring this info:"
      ]
    },
    {
      "cell_type": "code",
      "execution_count": null,
      "metadata": {
        "id": "aU2Loi_slL1q"
      },
      "outputs": [],
      "source": [
        "fragilityLink=\"https://github.com/SocialAnalytics-StrategicIntelligence/TableOperations/raw/main/dataFiles/fragility/fragilityCoded_2012_2023.pkl\"\n",
        "\n",
        "fragility=pd.read_pickle(fragilityLink)\n",
        "\n",
        "fragility.head()"
      ]
    },
    {
      "cell_type": "markdown",
      "metadata": {
        "id": "DB4x0t4BlL1q"
      },
      "source": [
        "We want to add the fragility data into the map. That is the merging process.\n",
        "For that, we need a common column. The country names is the option."
      ]
    },
    {
      "cell_type": "code",
      "execution_count": null,
      "metadata": {
        "id": "gSemVeBDlL1q"
      },
      "outputs": [],
      "source": [
        "# to upper case.\n",
        "countries['COUNTRY']=countries.COUNTRY.str.upper()"
      ]
    },
    {
      "cell_type": "markdown",
      "metadata": {
        "id": "nFCxIC9ulL1q"
      },
      "source": [
        "It is very unlikely the names are written the same. Verify:"
      ]
    },
    {
      "cell_type": "code",
      "execution_count": null,
      "metadata": {
        "id": "dKl5MPsUlL1q"
      },
      "outputs": [],
      "source": [
        "onlyFragil=set(fragility.Country)- set(countries.COUNTRY)\n",
        "onlyMap=set(countries.COUNTRY)- set(fragility.Country)"
      ]
    },
    {
      "cell_type": "markdown",
      "metadata": {
        "id": "NWzgmNa0lL1r"
      },
      "source": [
        "Check here:"
      ]
    },
    {
      "cell_type": "code",
      "execution_count": null,
      "metadata": {
        "id": "viFj9V7flL1r"
      },
      "outputs": [],
      "source": [
        "onlyFragil"
      ]
    },
    {
      "cell_type": "code",
      "execution_count": null,
      "metadata": {
        "id": "idNEeO-TlL1r"
      },
      "outputs": [],
      "source": [
        "# and here\n",
        "onlyMap"
      ]
    },
    {
      "cell_type": "markdown",
      "metadata": {
        "id": "nwaBWiB5lL1r"
      },
      "source": [
        "## Fuzzy merging"
      ]
    },
    {
      "cell_type": "markdown",
      "metadata": {
        "id": "sHj9UrKjlL1r"
      },
      "source": [
        "Let's find similar names:"
      ]
    },
    {
      "cell_type": "code",
      "execution_count": null,
      "metadata": {
        "id": "D2eVN9LWlL1r"
      },
      "outputs": [],
      "source": [
        "from thefuzz import process\n",
        "\n",
        "[(country, process.extractOne(country,onlyMap)) for country in sorted(onlyFragil)]"
      ]
    },
    {
      "cell_type": "code",
      "execution_count": null,
      "metadata": {
        "id": "4RG2Evo7lL1r"
      },
      "outputs": [],
      "source": [
        "# subsetting\n",
        "[(country, process.extractOne(country,onlyMap)) for country in sorted(onlyFragil)\n",
        " if process.extractOne(country,onlyMap)[1]>=90]"
      ]
    },
    {
      "cell_type": "markdown",
      "metadata": {
        "id": "pMTygLMZlL1r"
      },
      "source": [
        "Preparing a _dict_ of changes:"
      ]
    },
    {
      "cell_type": "code",
      "execution_count": null,
      "metadata": {
        "id": "NiMqTpNXlL1r"
      },
      "outputs": [],
      "source": [
        "# then:\n",
        "try1={country: process.extractOne(country,onlyMap)[0] for country in sorted(onlyFragil)\n",
        " if process.extractOne(country,onlyMap)[1]>=90}\n",
        "try1"
      ]
    },
    {
      "cell_type": "markdown",
      "metadata": {
        "id": "EtRAraCqlL1s"
      },
      "source": [
        "Making changes and updating:"
      ]
    },
    {
      "cell_type": "code",
      "execution_count": null,
      "metadata": {
        "id": "lYyQpcLAlL1t"
      },
      "outputs": [],
      "source": [
        "fragility.Country.replace(try1,inplace=True)\n",
        "\n",
        "# updating\n",
        "onlyFragil=set(fragility.Country)- set(countries.COUNTRY)\n",
        "onlyMap=set(countries.COUNTRY)- set(fragility.Country)\n",
        "\n",
        "# new matches\n",
        "[(country, process.extractOne(country,onlyMap)) for country in sorted(onlyFragil)]"
      ]
    },
    {
      "cell_type": "code",
      "execution_count": null,
      "metadata": {
        "id": "EqceZPjOlL1t"
      },
      "outputs": [],
      "source": [
        "# then:\n",
        "try2={country: process.extractOne(country,onlyMap)[0] for country in sorted(onlyFragil)\n",
        " if process.extractOne(country,onlyMap)[1]!=60}\n",
        "try2"
      ]
    },
    {
      "cell_type": "code",
      "execution_count": null,
      "metadata": {
        "id": "-keWEbhslL1t"
      },
      "outputs": [],
      "source": [
        "# changing\n",
        "fragility.Country.replace(try2,inplace=True)\n",
        "\n",
        "# new update\n",
        "onlyFragil=set(fragility.Country)- set(countries.COUNTRY)\n",
        "onlyMap=set(countries.COUNTRY)- set(fragility.Country)\n",
        "\n",
        "# new matches\n",
        "[(country, process.extractOne(country,onlyMap)) for country in sorted(onlyFragil)]"
      ]
    },
    {
      "cell_type": "markdown",
      "metadata": {
        "id": "F5qGA-YSlL1u"
      },
      "source": [
        "At this stage, we go manual:"
      ]
    },
    {
      "cell_type": "code",
      "execution_count": null,
      "metadata": {
        "id": "pnYdlvJtlL1u"
      },
      "outputs": [],
      "source": [
        "fragility.Country.replace({'ESWATINI': 'SWAZILAND'},inplace=True)\n",
        "\n",
        "#\n",
        "onlyFragil=set(fragility.Country)- set(countries.COUNTRY)\n",
        "onlyMap=set(countries.COUNTRY)- set(fragility.Country)\n",
        "\n",
        "#\n",
        "[(country, process.extractOne(country,onlyMap)) for country in sorted(onlyFragil)]\n"
      ]
    },
    {
      "cell_type": "markdown",
      "metadata": {
        "id": "LZ16X9u9lL1u"
      },
      "source": [
        "We can not improve the situation.\n",
        "\n",
        "Now, when you merge a GDF with a DF, **the GDF has to be on the left**:"
      ]
    },
    {
      "cell_type": "code",
      "execution_count": null,
      "metadata": {
        "id": "PG5lYN4YlL1u"
      },
      "outputs": [],
      "source": [
        "theMapAndData=countries.merge(fragility,left_on='COUNTRY', right_on='Country')\n",
        "# here it is (new map):\n",
        "theMapAndData.info()"
      ]
    },
    {
      "cell_type": "markdown",
      "metadata": {
        "id": "asHXCcKXlL1u"
      },
      "source": [
        "# Choropleths\n",
        "\n",
        "We should plan how to color the polygons based on some variable:"
      ]
    },
    {
      "cell_type": "code",
      "execution_count": null,
      "metadata": {
        "id": "8-sWqNYslL1u"
      },
      "outputs": [],
      "source": [
        "theMapAndData['Total_mnmx'].describe()"
      ]
    },
    {
      "cell_type": "code",
      "execution_count": null,
      "metadata": {
        "id": "kWA7xdjTlL1u"
      },
      "outputs": [],
      "source": [
        "theMapAndData.boxplot(column=['Total_mnmx'])"
      ]
    },
    {
      "cell_type": "code",
      "execution_count": null,
      "metadata": {
        "id": "VSv1_Vx_lL1u"
      },
      "outputs": [],
      "source": [
        "theMapAndData['Total_mnmx'].hist()"
      ]
    },
    {
      "cell_type": "markdown",
      "metadata": {
        "id": "jYL3gZhElL1v"
      },
      "source": [
        "Let's see other possibilities to cut the data (instead of the amount of intervals presented in the histogram), but please install [**numba**](https://numba.readthedocs.io/en/stable/user/installing.html) before runing the next code; also make sure you have **pysal**, **mapclassify** and **numpy** installed:"
      ]
    },
    {
      "cell_type": "code",
      "execution_count": null,
      "metadata": {
        "id": "Us_J6dAElL1v"
      },
      "outputs": [],
      "source": [
        "pip show numba pysal mapclassify numpy"
      ]
    },
    {
      "cell_type": "code",
      "execution_count": null,
      "metadata": {
        "id": "u08KwdMQlL1v"
      },
      "outputs": [],
      "source": [
        "import mapclassify\n",
        "import numpy as np\n",
        "\n",
        "np.random.seed(12345) # so we all get the same results!\n",
        "\n",
        "# let's try 5 intervals\n",
        "K=5\n",
        "theVar=theMapAndData.Total_mnmx\n",
        "# same interval width, easy interpretation\n",
        "ei5 = mapclassify.EqualInterval(theVar, k=K)\n",
        "# same interval width based on standard deviation, easy - but not as the previous one, poor when high skewness\n",
        "msd = mapclassify.StdMean(theVar)\n",
        "# interval width varies, counts per interval are close, not easy to grasp, repeated values complicate cuts\n",
        "q5=mapclassify.Quantiles(theVar,k=K)\n",
        "\n",
        "# based on similarity, good for multimodal data\n",
        "mb5 = mapclassify.MaximumBreaks(theVar, k=K)\n",
        "# based on similarity, good for skewed data\n",
        "ht = mapclassify.HeadTailBreaks(theVar) # no K needed\n",
        "# based on similarity, optimizer\n",
        "fj5 = mapclassify.FisherJenks(theVar, k=K)\n",
        "# based on similarity, optimizer\n",
        "jc5 = mapclassify.JenksCaspall(theVar, k=K)\n",
        "# based on similarity, optimizer\n",
        "mp5 = mapclassify.MaxP(theVar, k=K)"
      ]
    },
    {
      "cell_type": "markdown",
      "metadata": {
        "id": "FzAJnZfUlL1v"
      },
      "source": [
        "How can we select the right classification?\n",
        "Let me use the the Absolute deviation around class median (ADCM) to make the comparisson:"
      ]
    },
    {
      "cell_type": "code",
      "execution_count": null,
      "metadata": {
        "id": "cibupOmhlL1v"
      },
      "outputs": [],
      "source": [
        "class5 = ei5,msd, q5,mb5,  ht, fj5, jc5, mp5\n",
        "# Collect ADCM for each classifier\n",
        "fits = np.array([ c.adcm for c in class5])\n",
        "# Convert ADCM scores to a DataFrame\n",
        "adcms = pd.DataFrame(fits)\n",
        "# Add classifier names\n",
        "adcms['classifier'] = [c.name for c in class5]\n",
        "# Add column names to the ADCM\n",
        "adcms.columns = ['ADCM', 'Classifier']"
      ]
    },
    {
      "cell_type": "markdown",
      "metadata": {
        "id": "8nyxB6hhlL1v"
      },
      "source": [
        "Now, plot the **adcms**:"
      ]
    },
    {
      "cell_type": "code",
      "execution_count": null,
      "metadata": {
        "id": "c45QfJ63lL1v"
      },
      "outputs": [],
      "source": [
        "adcms.sort_values('ADCM').plot.barh(x='Classifier')"
      ]
    },
    {
      "cell_type": "markdown",
      "metadata": {
        "id": "GrXa15C4lL1v"
      },
      "source": [
        "Let's save the best three strategies:"
      ]
    },
    {
      "cell_type": "code",
      "execution_count": null,
      "metadata": {
        "id": "NkAa7dlalL1v"
      },
      "outputs": [],
      "source": [
        "theMapAndData.loc[:,'Total_ei5'] = ei5.yb\n",
        "theMapAndData.loc[:,'Total_fj5'] = fj5.yb\n",
        "theMapAndData.loc[:,'Total_jc5'] = jc5.yb"
      ]
    },
    {
      "cell_type": "code",
      "execution_count": null,
      "metadata": {
        "id": "Z6bqQn5nlL1w"
      },
      "outputs": [],
      "source": [
        "# there you are\n",
        "theMapAndData.head()"
      ]
    },
    {
      "cell_type": "markdown",
      "metadata": {
        "id": "8Gg3SvxylL1w"
      },
      "source": [
        "Let's check the mean of 'Total_mnmx' by the labels of the columns created (from '0' to '4')"
      ]
    },
    {
      "cell_type": "code",
      "execution_count": null,
      "metadata": {
        "id": "HGFYt3iNlL1w"
      },
      "outputs": [],
      "source": [
        "indexList=['Total_ei5','Total_fj5','Total_jc5']\n",
        "aggregator={'Total_mnmx': ['mean']}\n",
        "\n",
        "pd.concat([theMapAndData[['Total_mnmx',col]].groupby(col,as_index=False).agg(aggregator) for col in indexList],axis=1)"
      ]
    },
    {
      "cell_type": "markdown",
      "metadata": {
        "id": "QAntU8YmlL1w"
      },
      "source": [
        "Verify data types:"
      ]
    },
    {
      "cell_type": "code",
      "execution_count": null,
      "metadata": {
        "id": "-vAlTUnOlL1w"
      },
      "outputs": [],
      "source": [
        "theMapAndData.info()"
      ]
    },
    {
      "cell_type": "markdown",
      "metadata": {
        "id": "ErCVcWPFlL1w"
      },
      "source": [
        "Let me create a copy of those columns with new names:"
      ]
    },
    {
      "cell_type": "code",
      "execution_count": null,
      "metadata": {
        "id": "aobIHs8blL1w"
      },
      "outputs": [],
      "source": [
        "newColNames=[ name+\"_cat\" for name in indexList]\n",
        "\n",
        "theMapAndData[newColNames]=theMapAndData.loc[:,indexList]\n",
        "theMapAndData.head()"
      ]
    },
    {
      "cell_type": "code",
      "execution_count": null,
      "metadata": {
        "id": "khGwJA-elL1w"
      },
      "outputs": [],
      "source": [
        "# renaming\n",
        "newLabelsForLevels={0:\"0_Great\", 1:\"1_Good\", 2:\"2_Middle\", 3:\"3_Bad\", 4:\"4_Poor\"}\n",
        "\n",
        "theMapAndData[newColNames]=theMapAndData.loc[:,newColNames].replace(newLabelsForLevels)\n",
        "theMapAndData.drop(columns=['Country'],inplace=True)\n",
        "theMapAndData"
      ]
    },
    {
      "cell_type": "markdown",
      "metadata": {
        "id": "qlQoVuOilL1w"
      },
      "source": [
        "We are ready for a choropleth:"
      ]
    },
    {
      "cell_type": "code",
      "execution_count": null,
      "metadata": {
        "id": "9-cdMOPplL1w"
      },
      "outputs": [],
      "source": [
        "import matplotlib.pyplot as plt\n",
        "\n",
        "f, ax = plt.subplots(1, figsize=(10, 10))\n",
        "theMapAndData.plot(column='Total_ei5', # variable to plot\n",
        "                   cmap='viridis', # set of colors\n",
        "                   categorical=True, # can be interpreted as category\n",
        "                   edgecolor='white', # border color\n",
        "                   linewidth=0., # width of border\n",
        "                   alpha=1, # level of transparency (0 is invisible)\n",
        "                   legend=True, # need a legend?\n",
        "                   # location of legend: 'best', 'upper right', 'upper left', 'lower left',\n",
        "                   # 'lower right', 'right', 'center left', 'center right',\n",
        "                   # 'lower center', 'upper center', 'center'\n",
        "                   legend_kwds={'loc':\"lower left\"},\n",
        "        ax=ax\n",
        "       )\n",
        "\n",
        "ax.set_axis_off()"
      ]
    },
    {
      "cell_type": "code",
      "execution_count": null,
      "metadata": {
        "id": "A3YU7cvYlL1w"
      },
      "outputs": [],
      "source": [
        "# alternatively:\n",
        "\n",
        "import matplotlib.pyplot as plt\n",
        "\n",
        "f, ax = plt.subplots(1, figsize=(10, 10))\n",
        "theMapAndData.plot(column='Total_ei5_cat', # annotated\n",
        "        cmap='viridis',\n",
        "        categorical=True,\n",
        "        edgecolor='white',\n",
        "        linewidth=0.,\n",
        "        alpha=1,\n",
        "        legend=True,\n",
        "        legend_kwds={'loc':3},\n",
        "        ax=ax\n",
        "       )\n",
        "\n",
        "ax.set_axis_off()"
      ]
    },
    {
      "cell_type": "markdown",
      "metadata": {
        "id": "q4cqpmFVlL1x"
      },
      "source": [
        "Once you know the ADCM, you can request the choropleth without creating a variable:"
      ]
    },
    {
      "cell_type": "code",
      "execution_count": null,
      "metadata": {
        "id": "gxCcd1zQlL1x"
      },
      "outputs": [],
      "source": [
        "import matplotlib.pyplot as plt\n",
        "\n",
        "f, ax = plt.subplots(1, figsize=(10, 10))\n",
        "theMapAndData.plot(column='Total_mnmx',\n",
        "        cmap='viridis',\n",
        "                   scheme=\"equal_interval\",\n",
        "        edgecolor='white',\n",
        "        linewidth=0.,\n",
        "        alpha=0.75,\n",
        "        legend=True,\n",
        "        legend_kwds={'loc':3},\n",
        "        ax=ax\n",
        "       )\n",
        "\n",
        "ax.set_axis_off()"
      ]
    },
    {
      "cell_type": "code",
      "execution_count": null,
      "metadata": {
        "id": "89WS72_8lL1x"
      },
      "outputs": [],
      "source": [
        "import matplotlib.pyplot as plt\n",
        "\n",
        "f, ax = plt.subplots(1, figsize=(10, 10))\n",
        "theMapAndData.plot(column='Total_ei5_cat',\n",
        "        cmap='viridis',\n",
        "        categorical=True,\n",
        "        edgecolor='white',\n",
        "        linewidth=0.,\n",
        "        alpha=0.75,\n",
        "        legend=True,\n",
        "        legend_kwds={'loc':\"lower right\"},\n",
        "        ax=ax\n",
        "       )\n",
        "\n",
        "ax.set_axis_off()"
      ]
    },
    {
      "cell_type": "markdown",
      "metadata": {
        "id": "afD4jWUBlL1x"
      },
      "source": [
        "Let's save our data"
      ]
    },
    {
      "cell_type": "code",
      "execution_count": null,
      "metadata": {
        "id": "BZn6zf6rlL1x"
      },
      "outputs": [],
      "source": [
        "theMapAndData.to_file(os.path.join(\"maps\",\"theMapAndData.gpkg\"), layer='fragility', driver=\"GPKG\")"
      ]
    },
    {
      "cell_type": "markdown",
      "metadata": {
        "id": "fr8JTx-qlL1x"
      },
      "source": [
        "<div class=\"alert alert-danger\">\n",
        "  <strong>CHALLENGE 1</strong>\n",
        "    <br> * Create a public repo named \"week2_spatial\" with its README file. (1 point)\n",
        "    <br> * Clone the repo to your computer. (1 point)\n",
        "    <br> * In the local repo in your computer, create a folder named \"data\". (1 point)\n",
        "    <br> * Get Three maps for the same country: the lines can be rivers, highways or similar; the points have to be airports; and the polygons  of the 2rd administrative division ('provinces' in Perú, 'counties' in USA). Download those maps into the \"data\" folder. You can find airports here: https://ourairports.com/data/ (5 points)\n",
        "    <br> * Plot in one map the three layers of maps, including the code. (5 points)\n",
        "    <br> * Publish the three layer map. (3 points)\n",
        "    <br> * Update the README to offer a quick explanation, the data dictionary, and the link to the published map. (2 points)\n",
        "    <br> * Make sure the code is well organized (explanations, comments, no warnings, no python messages). (2 points)\n",
        "    \n",
        "</div>\n"
      ]
    },
    {
      "cell_type": "markdown",
      "metadata": {
        "id": "VX6mgjc8lL1x"
      },
      "source": [
        "<div class=\"alert alert-danger\">\n",
        "  <strong>CHALLENGE 2</strong>\n",
        "    <br> * Create a public repo named week2_spatial with its README file. (1 point)\n",
        "    <br> * Clone the repo to your computer. (1 point)\n",
        "    <br> * In the local repo in your computer, create a folder named \"data\". (1 point)\n",
        "    <br> * Get for the provinces of Peru data for any variable of your concern, the variable has to be measured in several years (you need at least 3 measures if the measures were every 5 or 10 years, or 10 measures if taken yearly). (4 points)\n",
        "    <br> * Merge that data into the map of provinces of Peru. (3 points)\n",
        "    <br> * Plot two maps, one with the provinces that improved, and other with the ones that worsen, include the code. (3 points)\n",
        "    <br> * Publish the two maps. (3 points)\n",
        "    <br> * Update the README to offer a quick explanation, the data dictionary, and the link to the published map. (2 points)\n",
        "    <br> * Make sure the code is well organized (explanations, comments, no warnings, no python messages). (2 points)\n",
        "    \n",
        "</div>\n"
      ]
    }
  ],
  "metadata": {
    "anaconda-cloud": {
      "attach-environment": true,
      "summary": "test"
    },
    "colab": {
      "provenance": []
    },
    "hide_input": false,
    "kernelspec": {
      "display_name": "Python 3 (ipykernel)",
      "language": "python",
      "name": "python3"
    },
    "language_info": {
      "codemirror_mode": {
        "name": "ipython",
        "version": 3
      },
      "file_extension": ".py",
      "mimetype": "text/x-python",
      "name": "python",
      "nbconvert_exporter": "python",
      "pygments_lexer": "ipython3",
      "version": "3.11.9"
    },
    "toc-autonumbering": false
  },
  "nbformat": 4,
  "nbformat_minor": 0
}